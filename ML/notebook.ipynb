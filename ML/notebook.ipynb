{
 "cells": [
  {
   "cell_type": "code",
   "execution_count": 1,
   "metadata": {},
   "outputs": [],
   "source": [
    "%matplotlib inline\n",
    "import pandas as pd\n",
    "import numpy as np\n",
    "import random as rnd\n",
    "import seaborn as sns\n",
    "import matplotlib.pyplot as plt"
   ]
  },
  {
   "cell_type": "code",
   "execution_count": 28,
   "metadata": {},
   "outputs": [],
   "source": [
    "train_df2 = pd.read_csv('train.csv', header=None ,delimiter=\";\")"
   ]
  },
  {
   "cell_type": "code",
   "execution_count": 29,
   "metadata": {},
   "outputs": [
    {
     "data": {
      "text/html": [
       "<div>\n",
       "<table border=\"1\" class=\"dataframe\">\n",
       "  <thead>\n",
       "    <tr style=\"text-align: right;\">\n",
       "      <th></th>\n",
       "      <th>0</th>\n",
       "      <th>1</th>\n",
       "      <th>2</th>\n",
       "      <th>3</th>\n",
       "      <th>4</th>\n",
       "      <th>5</th>\n",
       "      <th>6</th>\n",
       "      <th>7</th>\n",
       "      <th>8</th>\n",
       "      <th>9</th>\n",
       "      <th>...</th>\n",
       "      <th>11</th>\n",
       "      <th>12</th>\n",
       "      <th>13</th>\n",
       "      <th>14</th>\n",
       "      <th>15</th>\n",
       "      <th>16</th>\n",
       "      <th>17</th>\n",
       "      <th>18</th>\n",
       "      <th>19</th>\n",
       "      <th>20</th>\n",
       "    </tr>\n",
       "  </thead>\n",
       "  <tbody>\n",
       "    <tr>\n",
       "      <th>0</th>\n",
       "      <td>Jesus</td>\n",
       "      <td>ROJO</td>\n",
       "      <td>CRIS</td>\n",
       "      <td>6.019507</td>\n",
       "      <td>Jesus</td>\n",
       "      <td>ROJO</td>\n",
       "      <td>ROJO</td>\n",
       "      <td>2.109795</td>\n",
       "      <td>Jesus</td>\n",
       "      <td>PANTALON</td>\n",
       "      <td>...</td>\n",
       "      <td>2.587184</td>\n",
       "      <td>Jesus</td>\n",
       "      <td>ZANAHORIA</td>\n",
       "      <td>ZANAHORIA</td>\n",
       "      <td>2.317005</td>\n",
       "      <td>Jesus</td>\n",
       "      <td>MINERIA DE DATOS</td>\n",
       "      <td>MINERIA DE DATOS</td>\n",
       "      <td>5.13354</td>\n",
       "      <td>NaN</td>\n",
       "    </tr>\n",
       "  </tbody>\n",
       "</table>\n",
       "<p>1 rows × 21 columns</p>\n",
       "</div>"
      ],
      "text/plain": [
       "      0     1     2         3      4     5     6         7      8         9   \\\n",
       "0  Jesus  ROJO  CRIS  6.019507  Jesus  ROJO  ROJO  2.109795  Jesus  PANTALON   \n",
       "\n",
       "  ...        11     12         13         14        15     16  \\\n",
       "0 ...  2.587184  Jesus  ZANAHORIA  ZANAHORIA  2.317005  Jesus   \n",
       "\n",
       "                 17                18       19  20  \n",
       "0  MINERIA DE DATOS  MINERIA DE DATOS  5.13354 NaN  \n",
       "\n",
       "[1 rows x 21 columns]"
      ]
     },
     "execution_count": 29,
     "metadata": {},
     "output_type": "execute_result"
    }
   ],
   "source": [
    "train_df2"
   ]
  },
  {
   "cell_type": "code",
   "execution_count": 11,
   "metadata": {},
   "outputs": [
    {
     "name": "stdout",
     "output_type": "stream",
     "text": [
      "['Jesus;ROJO;ROJO;0.349221944809;']\n"
     ]
    }
   ],
   "source": [
    "print(train_df2.columns.values)"
   ]
  },
  {
   "cell_type": "code",
   "execution_count": 22,
   "metadata": {},
   "outputs": [],
   "source": [
    "train_df2.columns = ['usuario', 'palabra','palabraLeida', 'tiempoPalabra', 'a']"
   ]
  },
  {
   "cell_type": "code",
   "execution_count": 23,
   "metadata": {},
   "outputs": [
    {
     "data": {
      "text/html": [
       "<div>\n",
       "<table border=\"1\" class=\"dataframe\">\n",
       "  <thead>\n",
       "    <tr style=\"text-align: right;\">\n",
       "      <th></th>\n",
       "      <th>usuario</th>\n",
       "      <th>palabra</th>\n",
       "      <th>palabraLeida</th>\n",
       "      <th>tiempoPalabra</th>\n",
       "      <th>a</th>\n",
       "    </tr>\n",
       "  </thead>\n",
       "  <tbody>\n",
       "    <tr>\n",
       "      <th>0</th>\n",
       "      <td>Jesus</td>\n",
       "      <td>ROJO</td>\n",
       "      <td>ROJO</td>\n",
       "      <td>0.349222</td>\n",
       "      <td>NaN</td>\n",
       "    </tr>\n",
       "    <tr>\n",
       "      <th>1</th>\n",
       "      <td>Jesus</td>\n",
       "      <td>PANTALON</td>\n",
       "      <td>PANTALON</td>\n",
       "      <td>0.526793</td>\n",
       "      <td>NaN</td>\n",
       "    </tr>\n",
       "    <tr>\n",
       "      <th>2</th>\n",
       "      <td>Jesus</td>\n",
       "      <td>ZANAHORIA</td>\n",
       "      <td>ZANAHORIA</td>\n",
       "      <td>1.472444</td>\n",
       "      <td>NaN</td>\n",
       "    </tr>\n",
       "    <tr>\n",
       "      <th>3</th>\n",
       "      <td>Jesus</td>\n",
       "      <td>MINERIA DE DATOS</td>\n",
       "      <td>MINERIA DE DATOS</td>\n",
       "      <td>0.229789</td>\n",
       "      <td>NaN</td>\n",
       "    </tr>\n",
       "  </tbody>\n",
       "</table>\n",
       "</div>"
      ],
      "text/plain": [
       "  usuario           palabra      palabraLeida  tiempoPalabra   a\n",
       "0   Jesus              ROJO              ROJO       0.349222 NaN\n",
       "1   Jesus          PANTALON          PANTALON       0.526793 NaN\n",
       "2   Jesus         ZANAHORIA         ZANAHORIA       1.472444 NaN\n",
       "3   Jesus  MINERIA DE DATOS  MINERIA DE DATOS       0.229789 NaN"
      ]
     },
     "execution_count": 23,
     "metadata": {},
     "output_type": "execute_result"
    }
   ],
   "source": [
    "train_df2"
   ]
  },
  {
   "cell_type": "markdown",
   "metadata": {},
   "source": [
    "# Random Forest"
   ]
  },
  {
   "cell_type": "code",
   "execution_count": null,
   "metadata": {
    "collapsed": true
   },
   "outputs": [],
   "source": [
    "from sklearn.ensemble import RandomForestClassifier\n",
    "random_forest = RandomForestClassifier(n_estimators=101)\n",
    "random_forest.fit(X_train, Y_train)\n",
    "\n",
    "Y_pred = random_forest.predict(X_test)\n",
    "\n",
    "random_forest.score(X_train, Y_train)\n"
   ]
  }
 ],
 "metadata": {
  "kernelspec": {
   "display_name": "Python 2",
   "language": "python",
   "name": "python2"
  },
  "language_info": {
   "codemirror_mode": {
    "name": "ipython",
    "version": 2
   },
   "file_extension": ".py",
   "mimetype": "text/x-python",
   "name": "python",
   "nbconvert_exporter": "python",
   "pygments_lexer": "ipython2",
   "version": "2.7.11"
  }
 },
 "nbformat": 4,
 "nbformat_minor": 2
}
