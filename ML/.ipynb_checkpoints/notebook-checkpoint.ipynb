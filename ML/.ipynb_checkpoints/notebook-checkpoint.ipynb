{
 "cells": [
  {
   "cell_type": "code",
   "execution_count": 1,
   "metadata": {
    "collapsed": true
   },
   "outputs": [],
   "source": [
    "%matplotlib inline\n",
    "import pandas as pd\n",
    "import numpy as np\n",
    "import random as rnd\n",
    "import seaborn as sns\n",
    "import matplotlib.pyplot as plt"
   ]
  },
  {
   "cell_type": "code",
   "execution_count": 35,
   "metadata": {
    "collapsed": false
   },
   "outputs": [],
   "source": [
    "data = pd.read_csv('train.csv', header=None ,delimiter=\";\" )\n",
    "feature_names = ['usuario', 'palabra', 'palabraLeida', 'tiempoCaracter',\n",
    "       'hayErrPalabra', 'tiempoErrPalabra', 'numPalabra','tiempoPalabra', 'tamPalabra', 'caracter',\n",
    "       'falloCaracter', 'palabraCorrecta']\n",
    "data.columns = feature_names"
   ]
  },
  {
   "cell_type": "code",
   "execution_count": 48,
   "metadata": {
    "collapsed": false
   },
   "outputs": [
    {
     "data": {
      "text/html": [
       "<div>\n",
       "<table border=\"1\" class=\"dataframe\">\n",
       "  <thead>\n",
       "    <tr style=\"text-align: right;\">\n",
       "      <th></th>\n",
       "      <th>usuario</th>\n",
       "      <th>palabra</th>\n",
       "      <th>palabraLeida</th>\n",
       "      <th>tiempoCaracter</th>\n",
       "      <th>hayErrPalabra</th>\n",
       "      <th>tiempoErrPalabra</th>\n",
       "      <th>numPalabra</th>\n",
       "      <th>tiempoPalabra</th>\n",
       "      <th>tamPalabra</th>\n",
       "      <th>caracter</th>\n",
       "      <th>falloCaracter</th>\n",
       "      <th>palabraCorrecta</th>\n",
       "    </tr>\n",
       "  </thead>\n",
       "  <tbody>\n",
       "    <tr>\n",
       "      <th>0</th>\n",
       "      <td>Cristhian</td>\n",
       "      <td>ROJO</td>\n",
       "      <td>R</td>\n",
       "      <td>1.589</td>\n",
       "      <td>False</td>\n",
       "      <td>0.0</td>\n",
       "      <td>0</td>\n",
       "      <td>0.000</td>\n",
       "      <td>4</td>\n",
       "      <td>R</td>\n",
       "      <td>False</td>\n",
       "      <td>False</td>\n",
       "    </tr>\n",
       "    <tr>\n",
       "      <th>1</th>\n",
       "      <td>Cristhian</td>\n",
       "      <td>ROJO</td>\n",
       "      <td>RO</td>\n",
       "      <td>1.733</td>\n",
       "      <td>False</td>\n",
       "      <td>0.0</td>\n",
       "      <td>0</td>\n",
       "      <td>0.000</td>\n",
       "      <td>4</td>\n",
       "      <td>O</td>\n",
       "      <td>False</td>\n",
       "      <td>False</td>\n",
       "    </tr>\n",
       "    <tr>\n",
       "      <th>2</th>\n",
       "      <td>Cristhian</td>\n",
       "      <td>ROJO</td>\n",
       "      <td>ROJO</td>\n",
       "      <td>1.865</td>\n",
       "      <td>False</td>\n",
       "      <td>0.0</td>\n",
       "      <td>0</td>\n",
       "      <td>0.000</td>\n",
       "      <td>4</td>\n",
       "      <td>O</td>\n",
       "      <td>False</td>\n",
       "      <td>False</td>\n",
       "    </tr>\n",
       "    <tr>\n",
       "      <th>3</th>\n",
       "      <td>Cristhian</td>\n",
       "      <td>ROJO</td>\n",
       "      <td>ROJO</td>\n",
       "      <td>1.971</td>\n",
       "      <td>False</td>\n",
       "      <td>0.0</td>\n",
       "      <td>0</td>\n",
       "      <td>0.000</td>\n",
       "      <td>4</td>\n",
       "      <td>O</td>\n",
       "      <td>False</td>\n",
       "      <td>False</td>\n",
       "    </tr>\n",
       "    <tr>\n",
       "      <th>4</th>\n",
       "      <td>Cristhian</td>\n",
       "      <td>ROJO</td>\n",
       "      <td>ROJO</td>\n",
       "      <td>0.318</td>\n",
       "      <td>False</td>\n",
       "      <td>0.0</td>\n",
       "      <td>1</td>\n",
       "      <td>5.476</td>\n",
       "      <td>4</td>\n",
       "      <td>NaN</td>\n",
       "      <td>False</td>\n",
       "      <td>True</td>\n",
       "    </tr>\n",
       "  </tbody>\n",
       "</table>\n",
       "</div>"
      ],
      "text/plain": [
       "      usuario palabra palabraLeida  tiempoCaracter hayErrPalabra  \\\n",
       "0  Cristhian     ROJO            R           1.589         False   \n",
       "1  Cristhian     ROJO           RO           1.733         False   \n",
       "2  Cristhian     ROJO         ROJO           1.865         False   \n",
       "3  Cristhian     ROJO         ROJO           1.971         False   \n",
       "4  Cristhian     ROJO         ROJO           0.318         False   \n",
       "\n",
       "   tiempoErrPalabra  numPalabra  tiempoPalabra  tamPalabra caracter  \\\n",
       "0               0.0           0          0.000           4        R   \n",
       "1               0.0           0          0.000           4        O   \n",
       "2               0.0           0          0.000           4        O   \n",
       "3               0.0           0          0.000           4        O   \n",
       "4               0.0           1          5.476           4      NaN   \n",
       "\n",
       "  falloCaracter palabraCorrecta  \n",
       "0         False           False  \n",
       "1         False           False  \n",
       "2         False           False  \n",
       "3         False           False  \n",
       "4         False            True  "
      ]
     },
     "execution_count": 48,
     "metadata": {},
     "output_type": "execute_result"
    }
   ],
   "source": [
    "data.head()\n"
   ]
  },
  {
   "cell_type": "markdown",
   "metadata": {},
   "source": [
    "# Random Forest"
   ]
  },
  {
   "cell_type": "code",
   "execution_count": null,
   "metadata": {
    "collapsed": true
   },
   "outputs": [],
   "source": [
    "from sklearn.ensemble import RandomForestClassifier\n",
    "random_forest = RandomForestClassifier(n_estimators=101)\n",
    "random_forest.fit(X_train, Y_train)\n",
    "\n",
    "Y_pred = random_forest.predict(X_test)\n",
    "\n",
    "random_forest.score(X_train, Y_train)\n"
   ]
  }
 ],
 "metadata": {
  "kernelspec": {
   "display_name": "Python 2",
   "language": "python",
   "name": "python2"
  },
  "language_info": {
   "codemirror_mode": {
    "name": "ipython",
    "version": 2
   },
   "file_extension": ".py",
   "mimetype": "text/x-python",
   "name": "python",
   "nbconvert_exporter": "python",
   "pygments_lexer": "ipython2",
   "version": "2.7.13"
  }
 },
 "nbformat": 4,
 "nbformat_minor": 2
}
