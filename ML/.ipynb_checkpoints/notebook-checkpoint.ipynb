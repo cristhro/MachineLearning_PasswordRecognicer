{
 "cells": [
  {
   "cell_type": "code",
   "execution_count": 5,
   "metadata": {
    "collapsed": true
   },
   "outputs": [],
   "source": [
    "%matplotlib inline\n",
    "import pandas as pd\n",
    "import numpy as np\n",
    "import random as rnd\n",
    "import seaborn as sns\n",
    "import matplotlib.pyplot as plt"
   ]
  },
  {
   "cell_type": "code",
   "execution_count": 6,
   "metadata": {
    "collapsed": true
   },
   "outputs": [],
   "source": [
    "train_df2 = pd.read_csv('train.csv', header=None ,delimiter=\";\")"
   ]
  },
  {
   "cell_type": "code",
   "execution_count": 7,
   "metadata": {
    "collapsed": false
   },
   "outputs": [
    {
     "data": {
      "text/html": [
       "<div>\n",
       "<table border=\"1\" class=\"dataframe\">\n",
       "  <thead>\n",
       "    <tr style=\"text-align: right;\">\n",
       "      <th></th>\n",
       "      <th>0</th>\n",
       "      <th>1</th>\n",
       "      <th>2</th>\n",
       "      <th>3</th>\n",
       "      <th>4</th>\n",
       "      <th>5</th>\n",
       "      <th>6</th>\n",
       "      <th>7</th>\n",
       "      <th>8</th>\n",
       "      <th>9</th>\n",
       "      <th>...</th>\n",
       "      <th>1591</th>\n",
       "      <th>1592</th>\n",
       "      <th>1593</th>\n",
       "      <th>1594</th>\n",
       "      <th>1595</th>\n",
       "      <th>1596</th>\n",
       "      <th>1597</th>\n",
       "      <th>1598</th>\n",
       "      <th>1599</th>\n",
       "      <th>1600</th>\n",
       "    </tr>\n",
       "  </thead>\n",
       "  <tbody>\n",
       "    <tr>\n",
       "      <th>0</th>\n",
       "      <td>Jesus</td>\n",
       "      <td>ROJO</td>\n",
       "      <td>ROJO</td>\n",
       "      <td>1.208</td>\n",
       "      <td>Jesus</td>\n",
       "      <td>PANTALON</td>\n",
       "      <td>PANTALON</td>\n",
       "      <td>0.239</td>\n",
       "      <td>Jesus</td>\n",
       "      <td>ROJO</td>\n",
       "      <td>...</td>\n",
       "      <td>1.343559</td>\n",
       "      <td>Jesus</td>\n",
       "      <td>ROJO</td>\n",
       "      <td>wwwdlo</td>\n",
       "      <td>1.138845</td>\n",
       "      <td>Jesus</td>\n",
       "      <td>ROJO</td>\n",
       "      <td>NaN</td>\n",
       "      <td>1.864007</td>\n",
       "      <td>NaN</td>\n",
       "    </tr>\n",
       "  </tbody>\n",
       "</table>\n",
       "<p>1 rows × 1601 columns</p>\n",
       "</div>"
      ],
      "text/plain": [
       "    0     1     2      3      4         5         6      7      8     9     \\\n",
       "0  Jesus  ROJO  ROJO  1.208  Jesus  PANTALON  PANTALON  0.239  Jesus  ROJO   \n",
       "\n",
       "   ...       1591   1592  1593     1594      1595   1596  1597 1598      1599  \\\n",
       "0  ...   1.343559  Jesus  ROJO  wwwdlo   1.138845  Jesus  ROJO  NaN  1.864007   \n",
       "\n",
       "   1600  \n",
       "0   NaN  \n",
       "\n",
       "[1 rows x 1601 columns]"
      ]
     },
     "execution_count": 7,
     "metadata": {},
     "output_type": "execute_result"
    }
   ],
   "source": [
    "train_df2"
   ]
  },
  {
   "cell_type": "code",
   "execution_count": 9,
   "metadata": {
    "collapsed": false
   },
   "outputs": [
    {
     "name": "stdout",
     "output_type": "stream",
     "text": [
      "[   0    1    2 ..., 1598 1599 1600]\n"
     ]
    }
   ],
   "source": [
    "print(train_df2.columns.values)"
   ]
  },
  {
   "cell_type": "code",
   "execution_count": 22,
   "metadata": {
    "collapsed": true
   },
   "outputs": [],
   "source": [
    "train_df2.columns = ['usuario', 'palabra','palabraLeida', 'tiempoPalabra', 'a']"
   ]
  },
  {
   "cell_type": "code",
   "execution_count": 8,
   "metadata": {
    "collapsed": false
   },
   "outputs": [
    {
     "data": {
      "text/html": [
       "<div>\n",
       "<table border=\"1\" class=\"dataframe\">\n",
       "  <thead>\n",
       "    <tr style=\"text-align: right;\">\n",
       "      <th></th>\n",
       "      <th>0</th>\n",
       "      <th>1</th>\n",
       "      <th>2</th>\n",
       "      <th>3</th>\n",
       "      <th>4</th>\n",
       "      <th>5</th>\n",
       "      <th>6</th>\n",
       "      <th>7</th>\n",
       "      <th>8</th>\n",
       "      <th>9</th>\n",
       "      <th>...</th>\n",
       "      <th>1591</th>\n",
       "      <th>1592</th>\n",
       "      <th>1593</th>\n",
       "      <th>1594</th>\n",
       "      <th>1595</th>\n",
       "      <th>1596</th>\n",
       "      <th>1597</th>\n",
       "      <th>1598</th>\n",
       "      <th>1599</th>\n",
       "      <th>1600</th>\n",
       "    </tr>\n",
       "  </thead>\n",
       "  <tbody>\n",
       "    <tr>\n",
       "      <th>0</th>\n",
       "      <td>Jesus</td>\n",
       "      <td>ROJO</td>\n",
       "      <td>ROJO</td>\n",
       "      <td>1.208</td>\n",
       "      <td>Jesus</td>\n",
       "      <td>PANTALON</td>\n",
       "      <td>PANTALON</td>\n",
       "      <td>0.239</td>\n",
       "      <td>Jesus</td>\n",
       "      <td>ROJO</td>\n",
       "      <td>...</td>\n",
       "      <td>1.343559</td>\n",
       "      <td>Jesus</td>\n",
       "      <td>ROJO</td>\n",
       "      <td>wwwdlo</td>\n",
       "      <td>1.138845</td>\n",
       "      <td>Jesus</td>\n",
       "      <td>ROJO</td>\n",
       "      <td>NaN</td>\n",
       "      <td>1.864007</td>\n",
       "      <td>NaN</td>\n",
       "    </tr>\n",
       "  </tbody>\n",
       "</table>\n",
       "<p>1 rows × 1601 columns</p>\n",
       "</div>"
      ],
      "text/plain": [
       "    0     1     2      3      4         5         6      7      8     9     \\\n",
       "0  Jesus  ROJO  ROJO  1.208  Jesus  PANTALON  PANTALON  0.239  Jesus  ROJO   \n",
       "\n",
       "   ...       1591   1592  1593     1594      1595   1596  1597 1598      1599  \\\n",
       "0  ...   1.343559  Jesus  ROJO  wwwdlo   1.138845  Jesus  ROJO  NaN  1.864007   \n",
       "\n",
       "   1600  \n",
       "0   NaN  \n",
       "\n",
       "[1 rows x 1601 columns]"
      ]
     },
     "execution_count": 8,
     "metadata": {},
     "output_type": "execute_result"
    }
   ],
   "source": [
    "train_df2"
   ]
  },
  {
   "cell_type": "markdown",
   "metadata": {},
   "source": [
    "# Random Forest"
   ]
  },
  {
   "cell_type": "code",
   "execution_count": null,
   "metadata": {
    "collapsed": true
   },
   "outputs": [],
   "source": [
    "from sklearn.ensemble import RandomForestClassifier\n",
    "random_forest = RandomForestClassifier(n_estimators=101)\n",
    "random_forest.fit(X_train, Y_train)\n",
    "\n",
    "Y_pred = random_forest.predict(X_test)\n",
    "\n",
    "random_forest.score(X_train, Y_train)\n"
   ]
  }
 ],
 "metadata": {
  "kernelspec": {
   "display_name": "Python 2",
   "language": "python",
   "name": "python2"
  },
  "language_info": {
   "codemirror_mode": {
    "name": "ipython",
    "version": 2
   },
   "file_extension": ".py",
   "mimetype": "text/x-python",
   "name": "python",
   "nbconvert_exporter": "python",
   "pygments_lexer": "ipython2",
   "version": "2.7.13"
  }
 },
 "nbformat": 4,
 "nbformat_minor": 2
}
