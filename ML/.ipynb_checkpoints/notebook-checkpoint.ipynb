{
 "cells": [
  {
   "cell_type": "code",
   "execution_count": 74,
   "metadata": {
    "collapsed": true
   },
   "outputs": [],
   "source": [
    "%matplotlib inline\n",
    "import pandas as pd\n",
    "import numpy as np\n",
    "import random as rnd\n",
    "import cPickle"
   ]
  },
  {
   "cell_type": "markdown",
   "metadata": {},
   "source": [
    "## Funcion que preprocesa los datos\n",
    "prepara los datos que usara el algoritmo\n"
   ]
  },
  {
   "cell_type": "code",
   "execution_count": 80,
   "metadata": {
    "collapsed": false
   },
   "outputs": [],
   "source": [
    "def preprocess():\n",
    "    data = pd.read_csv('train1.csv', header=None ,delimiter=\";\" )\n",
    "    feature_names = ['usuario', 'palabra', 'palabraLeida', 'tiempoCaracter',\n",
    "           'hayErrPalabra', 'tiempoErrPalabra', 'numPalabra','tiempoPalabra', 'tamPalabra', 'caracter',\n",
    "           'falloCaracter', 'palabraCorrecta']\n",
    "    data.columns = feature_names\n",
    "    \n",
    "    features_train = data[[\"caracter\",\"tiempoCaracter\",\"falloCaracter\"]]\n",
    "    labels_train = data[[\"usuario\"]]\n",
    "    \n",
    "    # Transformamos los features que necesitaremos\n",
    "    from sklearn import preprocessing\n",
    "    \n",
    "    # Mapeamos los datos de tipo caracter\n",
    "    le_caracter = preprocessing.LabelEncoder()\n",
    "    le_caracter.fit(data[\"caracter\"].unique())\n",
    "    features_train [\"caracter\"] = le_caracter.transform( data[\"caracter\"])\n",
    "    \n",
    "    # Exportamos el mapeador de datos\n",
    "    with open('le_caracter.pkl', 'wb') as fid:\n",
    "        cPickle.dump(le_caracter, fid) \n",
    "        \n",
    "    features_train [\"tiempoCaracter\"] = data[\"tiempoCaracter\"]\n",
    "    \n",
    "    le_fallo = preprocessing.LabelEncoder()\n",
    "    le_fallo.fit(data[\"falloCaracter\"].unique())\n",
    "    features_train [\"falloCaracter\"] = le_fallo.transform( data[\"falloCaracter\"])\n",
    "    \n",
    "    # Exportamos el mapeador de datos\n",
    "    with open('le_fallo.pkl', 'wb') as fid:\n",
    "        cPickle.dump(le_fallo, fid) \n",
    "        \n",
    "    # Transformamos los labels\n",
    "    data[\"usuario\"] = data[\"usuario\"].str.strip()\n",
    "    \n",
    "    # Mapeamos los datos de tipo usuario\n",
    "    le_usuario = preprocessing.LabelEncoder()\n",
    "    le_usuario.fit(data[\"usuario\"].unique())\n",
    "    labels_train [\"usuario\"] = le_usuario.transform( data[\"usuario\"])\n",
    "    \n",
    "    with open('le_usuario.pkl', 'wb') as fid:\n",
    "        cPickle.dump(le_usuario, fid) \n",
    "    \n",
    "    return features_train, labels_train"
   ]
  },
  {
   "cell_type": "code",
   "execution_count": 81,
   "metadata": {
    "collapsed": false
   },
   "outputs": [
    {
     "name": "stderr",
     "output_type": "stream",
     "text": [
      "C:\\Users\\cr\\Anaconda2\\lib\\site-packages\\ipykernel\\__main__.py:17: SettingWithCopyWarning: \n",
      "A value is trying to be set on a copy of a slice from a DataFrame.\n",
      "Try using .loc[row_indexer,col_indexer] = value instead\n",
      "\n",
      "See the caveats in the documentation: http://pandas.pydata.org/pandas-docs/stable/indexing.html#indexing-view-versus-copy\n",
      "C:\\Users\\cr\\Anaconda2\\lib\\site-packages\\ipykernel\\__main__.py:23: SettingWithCopyWarning: \n",
      "A value is trying to be set on a copy of a slice from a DataFrame.\n",
      "Try using .loc[row_indexer,col_indexer] = value instead\n",
      "\n",
      "See the caveats in the documentation: http://pandas.pydata.org/pandas-docs/stable/indexing.html#indexing-view-versus-copy\n",
      "C:\\Users\\cr\\Anaconda2\\lib\\site-packages\\ipykernel\\__main__.py:27: SettingWithCopyWarning: \n",
      "A value is trying to be set on a copy of a slice from a DataFrame.\n",
      "Try using .loc[row_indexer,col_indexer] = value instead\n",
      "\n",
      "See the caveats in the documentation: http://pandas.pydata.org/pandas-docs/stable/indexing.html#indexing-view-versus-copy\n",
      "C:\\Users\\cr\\Anaconda2\\lib\\site-packages\\ipykernel\\__main__.py:39: SettingWithCopyWarning: \n",
      "A value is trying to be set on a copy of a slice from a DataFrame.\n",
      "Try using .loc[row_indexer,col_indexer] = value instead\n",
      "\n",
      "See the caveats in the documentation: http://pandas.pydata.org/pandas-docs/stable/indexing.html#indexing-view-versus-copy\n"
     ]
    }
   ],
   "source": [
    "    features_train, labels_train =  preprocess()"
   ]
  },
  {
   "cell_type": "code",
   "execution_count": 82,
   "metadata": {
    "collapsed": false
   },
   "outputs": [
    {
     "name": "stderr",
     "output_type": "stream",
     "text": [
      "C:\\Users\\cr\\Anaconda2\\lib\\site-packages\\ipykernel\\__main__.py:17: SettingWithCopyWarning: \n",
      "A value is trying to be set on a copy of a slice from a DataFrame.\n",
      "Try using .loc[row_indexer,col_indexer] = value instead\n",
      "\n",
      "See the caveats in the documentation: http://pandas.pydata.org/pandas-docs/stable/indexing.html#indexing-view-versus-copy\n",
      "C:\\Users\\cr\\Anaconda2\\lib\\site-packages\\ipykernel\\__main__.py:23: SettingWithCopyWarning: \n",
      "A value is trying to be set on a copy of a slice from a DataFrame.\n",
      "Try using .loc[row_indexer,col_indexer] = value instead\n",
      "\n",
      "See the caveats in the documentation: http://pandas.pydata.org/pandas-docs/stable/indexing.html#indexing-view-versus-copy\n",
      "C:\\Users\\cr\\Anaconda2\\lib\\site-packages\\ipykernel\\__main__.py:27: SettingWithCopyWarning: \n",
      "A value is trying to be set on a copy of a slice from a DataFrame.\n",
      "Try using .loc[row_indexer,col_indexer] = value instead\n",
      "\n",
      "See the caveats in the documentation: http://pandas.pydata.org/pandas-docs/stable/indexing.html#indexing-view-versus-copy\n",
      "C:\\Users\\cr\\Anaconda2\\lib\\site-packages\\ipykernel\\__main__.py:39: SettingWithCopyWarning: \n",
      "A value is trying to be set on a copy of a slice from a DataFrame.\n",
      "Try using .loc[row_indexer,col_indexer] = value instead\n",
      "\n",
      "See the caveats in the documentation: http://pandas.pydata.org/pandas-docs/stable/indexing.html#indexing-view-versus-copy\n"
     ]
    }
   ],
   "source": [
    "def entrenar():\n",
    "    features_train, labels_train =  preprocess()\n",
    "    \n",
    "    from sklearn.ensemble import AdaBoostClassifier\n",
    "    from sklearn.model_selection import cross_val_score\n",
    "    from sklearn import svm\n",
    "\n",
    "    ada = AdaBoostClassifier(n_estimators=100)\n",
    "    ada.fit(features_train, labels_train)\n",
    "    \n",
    "    exportarModelo(ada)\n"
   ]
  },
  {
   "cell_type": "code",
   "execution_count": null,
   "metadata": {
    "collapsed": true
   },
   "outputs": [],
   "source": [
    "entrenar()"
   ]
  },
  {
   "cell_type": "code",
   "execution_count": 83,
   "metadata": {
    "collapsed": false
   },
   "outputs": [],
   "source": [
    "def exportarModelo(modelo):    \n",
    "    import cPickle\n",
    "    # save the classifier\n",
    "    with open('classifier.pkl', 'wb') as fid:\n",
    "        cPickle.dump(modelo, fid) "
   ]
  },
  {
   "cell_type": "code",
   "execution_count": 62,
   "metadata": {
    "collapsed": false
   },
   "outputs": [
    {
     "name": "stdout",
     "output_type": "stream",
     "text": [
      "['Cristhian', 'Jesus']\n"
     ]
    }
   ],
   "source": [
    "def get_le_caracter():\n",
    "    with open('le_caracter.pkl', 'rb') as fid:\n",
    "        modelo = cPickle.load(fid)\n",
    "    return modelo\n",
    "def get_le_usuario():\n",
    "    with open('le_usuario.pkl', 'rb') as fid:\n",
    "        le_usuario = cPickle.load(fid)\n",
    "    return le_usuario"
   ]
  },
  {
   "cell_type": "code",
   "execution_count": null,
   "metadata": {
    "collapsed": false
   },
   "outputs": [],
   "source": []
  }
 ],
 "metadata": {
  "kernelspec": {
   "display_name": "Python 2",
   "language": "python",
   "name": "python2"
  },
  "language_info": {
   "codemirror_mode": {
    "name": "ipython",
    "version": 2
   },
   "file_extension": ".py",
   "mimetype": "text/x-python",
   "name": "python",
   "nbconvert_exporter": "python",
   "pygments_lexer": "ipython2",
   "version": "2.7.13"
  }
 },
 "nbformat": 4,
 "nbformat_minor": 2
}
